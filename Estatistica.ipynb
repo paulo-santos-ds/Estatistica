{
  "nbformat": 4,
  "nbformat_minor": 0,
  "metadata": {
    "colab": {
      "name": "Estatistica.ipynb",
      "provenance": [],
      "authorship_tag": "ABX9TyM9pO3Z/xGy0fRrGgyVagBq",
      "include_colab_link": true
    },
    "kernelspec": {
      "name": "python3",
      "display_name": "Python 3"
    },
    "language_info": {
      "name": "python"
    }
  },
  "cells": [
    {
      "cell_type": "markdown",
      "metadata": {
        "id": "view-in-github",
        "colab_type": "text"
      },
      "source": [
        "<a href=\"https://colab.research.google.com/github/paulo-santos-ds/Estatistica/blob/main/Estatistica.ipynb\" target=\"_parent\"><img src=\"https://colab.research.google.com/assets/colab-badge.svg\" alt=\"Open In Colab\"/></a>"
      ]
    },
    {
      "cell_type": "code",
      "execution_count": 25,
      "metadata": {
        "id": "JhaVaS1GPVSb"
      },
      "outputs": [],
      "source": [
        "import numpy as np\n",
        "import pandas as pd \n",
        "import matplotlib.pyplot as plt\n",
        "import statistics as stat\n",
        "import seaborn as sns"
      ]
    },
    {
      "cell_type": "markdown",
      "source": [
        "#Media"
      ],
      "metadata": {
        "id": "L0U7K14WP8HV"
      }
    },
    {
      "cell_type": "code",
      "source": [
        "a =[1,2,3,4,5]\n",
        "np.median(a)\n"
      ],
      "metadata": {
        "colab": {
          "base_uri": "https://localhost:8080/"
        },
        "id": "eCpi8_KxP_Db",
        "outputId": "d067e734-048d-4a18-8445-bb70b964558c"
      },
      "execution_count": 26,
      "outputs": [
        {
          "output_type": "execute_result",
          "data": {
            "text/plain": [
              "3.0"
            ]
          },
          "metadata": {},
          "execution_count": 26
        }
      ]
    },
    {
      "cell_type": "code",
      "source": [
        "np.mean([10,25,55])"
      ],
      "metadata": {
        "colab": {
          "base_uri": "https://localhost:8080/"
        },
        "id": "BM7vN8gCUIBe",
        "outputId": "b6fe36cb-af3c-49c5-ab81-c14d920f4eea"
      },
      "execution_count": 27,
      "outputs": [
        {
          "output_type": "execute_result",
          "data": {
            "text/plain": [
              "30.0"
            ]
          },
          "metadata": {},
          "execution_count": 27
        }
      ]
    },
    {
      "cell_type": "markdown",
      "source": [
        "## Mediana"
      ],
      "metadata": {
        "id": "sEs8qw0lUOhi"
      }
    },
    {
      "cell_type": "code",
      "source": [
        "np.median([10,25,55])\n"
      ],
      "metadata": {
        "colab": {
          "base_uri": "https://localhost:8080/"
        },
        "id": "KdbHZxk3UQG7",
        "outputId": "4c4612f6-cd96-47ef-fac1-07f20936d3d2"
      },
      "execution_count": 28,
      "outputs": [
        {
          "output_type": "execute_result",
          "data": {
            "text/plain": [
              "25.0"
            ]
          },
          "metadata": {},
          "execution_count": 28
        }
      ]
    },
    {
      "cell_type": "markdown",
      "source": [
        "#Moda"
      ],
      "metadata": {
        "id": "as62ZrFmUY3E"
      }
    },
    {
      "cell_type": "code",
      "source": [
        "a = [1,2,2,3,3,3,3,3,3,3,3,3,3,3]\n",
        "stat.mode(a) "
      ],
      "metadata": {
        "colab": {
          "base_uri": "https://localhost:8080/"
        },
        "id": "cBk9hTBgUagb",
        "outputId": "097f3868-df5b-4a70-b247-d79813c12516"
      },
      "execution_count": 29,
      "outputs": [
        {
          "output_type": "execute_result",
          "data": {
            "text/plain": [
              "3"
            ]
          },
          "metadata": {},
          "execution_count": 29
        }
      ]
    },
    {
      "cell_type": "markdown",
      "source": [
        "#Histograma"
      ],
      "metadata": {
        "id": "4IZaN-1KUfsK"
      }
    },
    {
      "cell_type": "code",
      "source": [
        "np.random.sample(5)"
      ],
      "metadata": {
        "colab": {
          "base_uri": "https://localhost:8080/"
        },
        "id": "vE6lu3BVUi66",
        "outputId": "897e4c1d-e29e-471a-813f-a802b11d1f17"
      },
      "execution_count": 30,
      "outputs": [
        {
          "output_type": "execute_result",
          "data": {
            "text/plain": [
              "array([0.72525428, 0.50132438, 0.95608363, 0.6439902 , 0.42385505])"
            ]
          },
          "metadata": {},
          "execution_count": 30
        }
      ]
    },
    {
      "cell_type": "code",
      "source": [
        "a = np.random.randint(0,1001,size=250)"
      ],
      "metadata": {
        "id": "2tjdR9UQUk5B"
      },
      "execution_count": 31,
      "outputs": []
    },
    {
      "cell_type": "code",
      "source": [
        "plt.hist(a)\n",
        "plt.show()"
      ],
      "metadata": {
        "colab": {
          "base_uri": "https://localhost:8080/",
          "height": 268
        },
        "id": "O6OsRoQVUo0D",
        "outputId": "8a9e8322-31e2-4a83-c82d-fbaefabe86e7"
      },
      "execution_count": 32,
      "outputs": [
        {
          "output_type": "display_data",
          "data": {
            "text/plain": [
              "<Figure size 432x288 with 1 Axes>"
            ],
            "image/png": "[encoded data removed]"
          },
          "metadata": {}
        }
      ]
    },
    {
      "cell_type": "code",
      "source": [
        "np.sort(a)"
      ],
      "metadata": {
        "colab": {
          "base_uri": "https://localhost:8080/"
        },
        "id": "A6hfb9qeUt-A",
        "outputId": "5078f2d8-6186-4e71-ef4c-4240ae696aa5"
      },
      "execution_count": 33,
      "outputs": [
        {
          "output_type": "execute_result",
          "data": {
            "text/plain": [
              "array([  4,  11,  13,  16,  24,  29,  32,  33,  36,  41,  43,  44,  61,\n",
              "        67,  69,  73,  80,  83,  87,  87,  88,  91,  93,  93, 106, 111,\n",
              "       114, 120, 121, 129, 129, 136, 136, 136, 138, 139, 146, 147, 148,\n",
              "       152, 160, 164, 166, 168, 174, 174, 176, 189, 191, 195, 197, 199,\n",
              "       201, 207, 207, 209, 209, 212, 216, 217, 219, 221, 227, 232, 234,\n",
              "       254, 256, 273, 274, 274, 276, 281, 282, 284, 287, 289, 290, 290,\n",
              "       291, 291, 297, 307, 307, 314, 322, 323, 324, 326, 329, 340, 341,\n",
              "       341, 347, 348, 349, 357, 368, 373, 376, 381, 393, 394, 405, 414,\n",
              "       421, 423, 423, 423, 426, 429, 433, 433, 437, 438, 446, 455, 459,\n",
              "       463, 469, 470, 480, 488, 498, 507, 508, 508, 509, 514, 517, 525,\n",
              "       534, 536, 537, 539, 539, 540, 541, 547, 551, 552, 555, 556, 563,\n",
              "       573, 575, 579, 584, 586, 591, 593, 595, 606, 616, 617, 623, 623,\n",
              "       628, 637, 645, 647, 653, 657, 662, 663, 668, 670, 694, 696, 701,\n",
              "       709, 710, 715, 716, 726, 727, 730, 732, 735, 739, 750, 753, 763,\n",
              "       765, 767, 768, 770, 771, 771, 777, 779, 782, 786, 786, 798, 799,\n",
              "       800, 802, 803, 804, 807, 809, 812, 814, 819, 820, 821, 823, 826,\n",
              "       832, 839, 855, 857, 859, 860, 865, 871, 873, 876, 884, 884, 885,\n",
              "       886, 890, 891, 894, 896, 899, 908, 919, 930, 932, 939, 941, 941,\n",
              "       946, 949, 949, 949, 951, 952, 954, 967, 968, 971, 978, 978, 979,\n",
              "       982, 987, 998])"
            ]
          },
          "metadata": {},
          "execution_count": 33
        }
      ]
    },
    {
      "cell_type": "markdown",
      "source": [
        "##Boxplot"
      ],
      "metadata": {
        "id": "xI2BCT-OUyfA"
      }
    },
    {
      "cell_type": "code",
      "source": [
        "plt.boxplot(a)\n",
        "plt.show()"
      ],
      "metadata": {
        "colab": {
          "base_uri": "https://localhost:8080/",
          "height": 268
        },
        "id": "KZA3NrgVU0f4",
        "outputId": "e4f3646c-fb83-4383-b2a6-313e4ac1f1d9"
      },
      "execution_count": 34,
      "outputs": [
        {
          "output_type": "display_data",
          "data": {
            "text/plain": [
              "<Figure size 432x288 with 1 Axes>"
            ],
            "image/png": "[encoded data removed]"
          },
          "metadata": {}
        }
      ]
    },
    {
      "cell_type": "code",
      "source": [
        "np.percentile(a,q=55)"
      ],
      "metadata": {
        "colab": {
          "base_uri": "https://localhost:8080/"
        },
        "id": "_uuc9SpUU_lQ",
        "outputId": "07cfd9f9-4078-46fa-d029-95b0fd613948"
      },
      "execution_count": 35,
      "outputs": [
        {
          "output_type": "execute_result",
          "data": {
            "text/plain": [
              "546.7"
            ]
          },
          "metadata": {},
          "execution_count": 35
        }
      ]
    },
    {
      "cell_type": "code",
      "source": [
        "np.mean(a)"
      ],
      "metadata": {
        "colab": {
          "base_uri": "https://localhost:8080/"
        },
        "id": "v0NwU7zlVBrk",
        "outputId": "abc06517-8636-4c38-e53a-e79140369ef9"
      },
      "execution_count": 36,
      "outputs": [
        {
          "output_type": "execute_result",
          "data": {
            "text/plain": [
              "501.04"
            ]
          },
          "metadata": {},
          "execution_count": 36
        }
      ]
    },
    {
      "cell_type": "markdown",
      "source": [
        "##Localizando Outlier"
      ],
      "metadata": {
        "id": "J_Mv_hqLVFkj"
      }
    },
    {
      "cell_type": "code",
      "source": [
        "a = np.array(list(a)+[5000])"
      ],
      "metadata": {
        "id": "Ydf8PNQ3VKOr"
      },
      "execution_count": 37,
      "outputs": []
    },
    {
      "cell_type": "code",
      "source": [
        "plt.boxplot(a[a<=np.percentile(a,q=99.9)])\n",
        "plt.show()"
      ],
      "metadata": {
        "colab": {
          "base_uri": "https://localhost:8080/",
          "height": 268
        },
        "id": "BKL4N339VOI7",
        "outputId": "e1e77eee-36d1-41cd-868a-1f38b701ecc0"
      },
      "execution_count": 38,
      "outputs": [
        {
          "output_type": "display_data",
          "data": {
            "text/plain": [
              "<Figure size 432x288 with 1 Axes>"
            ],
            "image/png": "[encoded data removed]"
          },
          "metadata": {}
        }
      ]
    },
    {
      "cell_type": "code",
      "source": [
        "np.percentile(a,q=99.9)"
      ],
      "metadata": {
        "colab": {
          "base_uri": "https://localhost:8080/"
        },
        "id": "qRRYFzlcVWE0",
        "outputId": "8a44c50b-b155-47f6-d458-2a804d10ab23"
      },
      "execution_count": 39,
      "outputs": [
        {
          "output_type": "execute_result",
          "data": {
            "text/plain": [
              "3999.5000000001137"
            ]
          },
          "metadata": {},
          "execution_count": 39
        }
      ]
    },
    {
      "cell_type": "markdown",
      "source": [
        "##Grafico de Calor"
      ],
      "metadata": {
        "id": "J2kffZ7RVa65"
      }
    },
    {
      "cell_type": "code",
      "source": [
        "np.random.seed(0)\n",
        "sns; sns.set_theme()\n",
        "uniform_data = np.random.rand(10,12)\n",
        "ax = sns.heatmap(uniform_data)"
      ],
      "metadata": {
        "colab": {
          "base_uri": "https://localhost:8080/",
          "height": 268
        },
        "id": "btFmKnYNVeLp",
        "outputId": "1f4cb65d-9bff-473a-bdc1-7ef721d4bc3f"
      },
      "execution_count": 40,
      "outputs": [
        {
          "output_type": "display_data",
          "data": {
            "text/plain": [
              "<Figure size 432x288 with 2 Axes>"
            ],
            "image/png": "[encoded data removed]"
          },
          "metadata": {}
        }
      ]
    },
    {
      "cell_type": "code",
      "source": [
        "df = pd.read_csv('iris.csv',sep=';',decimal='.')\n",
        "df.head()"
      ],
      "metadata": {
        "colab": {
          "base_uri": "https://localhost:8080/",
          "height": 206
        },
        "id": "A_PXGME5ViwZ",
        "outputId": "0ad5200d-bc09-4011-e0c1-559fe2ddb23e"
      },
      "execution_count": 41,
      "outputs": [
        {
          "output_type": "execute_result",
          "data": {
            "text/plain": [
              "  sepal length (cm) sepal width (cm) petal length (cm) petal width (cm)  \\\n",
              "0               5,1              3,5               1,4              0,2   \n",
              "1               4,9              3,0               1,4              0,2   \n",
              "2               4,7              3,2               1,3              0,2   \n",
              "3               4,6              3,1               1,5              0,2   \n",
              "4               5,0              3,6               1,4              0,2   \n",
              "\n",
              "   target target_names  \n",
              "0       0       setosa  \n",
              "1       0       setosa  \n",
              "2       0       setosa  \n",
              "3       0       setosa  \n",
              "4       0       setosa  "
            ],
            "text/html": [
              "\n",
              "  <div id=\"df-3135ce77-301d-4948-97cf-2b57e5be89ec\">\n",
              "    <div class=\"colab-df-container\">\n",
              "      <div>\n",
              "<style scoped>\n",
              "    .dataframe tbody tr th:only-of-type {\n",
              "        vertical-align: middle;\n",
              "    }\n",
              "\n",
              "    .dataframe tbody tr th {\n",
              "        vertical-align: top;\n",
              "    }\n",
              "\n",
              "    .dataframe thead th {\n",
              "        text-align: right;\n",
              "    }\n",
              "</style>\n",
              "<table border=\"1\" class=\"dataframe\">\n",
              "  <thead>\n",
              "    <tr style=\"text-align: right;\">\n",
              "      <th></th>\n",
              "      <th>sepal length (cm)</th>\n",
              "      <th>sepal width (cm)</th>\n",
              "      <th>petal length (cm)</th>\n",
              "      <th>petal width (cm)</th>\n",
              "      <th>target</th>\n",
              "      <th>target_names</th>\n",
              "    </tr>\n",
              "  </thead>\n",
              "  <tbody>\n",
              "    <tr>\n",
              "      <th>0</th>\n",
              "      <td>5,1</td>\n",
              "      <td>3,5</td>\n",
              "      <td>1,4</td>\n",
              "      <td>0,2</td>\n",
              "      <td>0</td>\n",
              "      <td>setosa</td>\n",
              "    </tr>\n",
              "    <tr>\n",
              "      <th>1</th>\n",
              "      <td>4,9</td>\n",
              "      <td>3,0</td>\n",
              "      <td>1,4</td>\n",
              "      <td>0,2</td>\n",
              "      <td>0</td>\n",
              "      <td>setosa</td>\n",
              "    </tr>\n",
              "    <tr>\n",
              "      <th>2</th>\n",
              "      <td>4,7</td>\n",
              "      <td>3,2</td>\n",
              "      <td>1,3</td>\n",
              "      <td>0,2</td>\n",
              "      <td>0</td>\n",
              "      <td>setosa</td>\n",
              "    </tr>\n",
              "    <tr>\n",
              "      <th>3</th>\n",
              "      <td>4,6</td>\n",
              "      <td>3,1</td>\n",
              "      <td>1,5</td>\n",
              "      <td>0,2</td>\n",
              "      <td>0</td>\n",
              "      <td>setosa</td>\n",
              "    </tr>\n",
              "    <tr>\n",
              "      <th>4</th>\n",
              "      <td>5,0</td>\n",
              "      <td>3,6</td>\n",
              "      <td>1,4</td>\n",
              "      <td>0,2</td>\n",
              "      <td>0</td>\n",
              "      <td>setosa</td>\n",
              "    </tr>\n",
              "  </tbody>\n",
              "</table>\n",
              "</div>\n",
              "      <button class=\"colab-df-convert\" onclick=\"convertToInteractive('df-3135ce77-301d-4948-97cf-2b57e5be89ec')\"\n",
              "              title=\"Convert this dataframe to an interactive table.\"\n",
              "              style=\"display:none;\">\n",
              "        \n",
              "  <svg xmlns=\"http://www.w3.org/2000/svg\" height=\"24px\"viewBox=\"0 0 24 24\"\n",
              "       width=\"24px\">\n",
              "    <path d=\"M0 0h24v24H0V0z\" fill=\"none\"/>\n",
              "    <path d=\"M18.56 5.44l.94 2.06.94-2.06 2.06-.94-2.06-.94-.94-2.06-.94 2.06-2.06.94zm-11 1L8.5 8.5l.94-2.06 2.06-.94-2.06-.94L8.5 2.5l-.94 2.06-2.06.94zm10 10l.94 2.06.94-2.06 2.06-.94-2.06-.94-.94-2.06-.94 2.06-2.06.94z\"/><path d=\"M17.41 7.96l-1.37-1.37c-.4-.4-.92-.59-1.43-.59-.52 0-1.04.2-1.43.59L10.3 9.45l-7.72 7.72c-.78.78-.78 2.05 0 2.83L4 21.41c.39.39.9.59 1.41.59.51 0 1.02-.2 1.41-.59l7.78-7.78 2.81-2.81c.8-.78.8-2.07 0-2.86zM5.41 20L4 18.59l7.72-7.72 1.47 1.35L5.41 20z\"/>\n",
              "  </svg>\n",
              "      </button>\n",
              "      \n",
              "  <style>\n",
              "    .colab-df-container {\n",
              "      display:flex;\n",
              "      flex-wrap:wrap;\n",
              "      gap: 12px;\n",
              "    }\n",
              "\n",
              "    .colab-df-convert {\n",
              "      background-color: #E8F0FE;\n",
              "      border: none;\n",
              "      border-radius: 50%;\n",
              "      cursor: pointer;\n",
              "      display: none;\n",
              "      fill: #1967D2;\n",
              "      height: 32px;\n",
              "      padding: 0 0 0 0;\n",
              "      width: 32px;\n",
              "    }\n",
              "\n",
              "    .colab-df-convert:hover {\n",
              "      background-color: #E2EBFA;\n",
              "      box-shadow: 0px 1px 2px rgba(60, 64, 67, 0.3), 0px 1px 3px 1px rgba(60, 64, 67, 0.15);\n",
              "      fill: #174EA6;\n",
              "    }\n",
              "\n",
              "    [theme=dark] .colab-df-convert {\n",
              "      background-color: #3B4455;\n",
              "      fill: #D2E3FC;\n",
              "    }\n",
              "\n",
              "    [theme=dark] .colab-df-convert:hover {\n",
              "      background-color: #434B5C;\n",
              "      box-shadow: 0px 1px 3px 1px rgba(0, 0, 0, 0.15);\n",
              "      filter: drop-shadow(0px 1px 2px rgba(0, 0, 0, 0.3));\n",
              "      fill: #FFFFFF;\n",
              "    }\n",
              "  </style>\n",
              "\n",
              "      <script>\n",
              "        const buttonEl =\n",
              "          document.querySelector('#df-3135ce77-301d-4948-97cf-2b57e5be89ec button.colab-df-convert');\n",
              "        buttonEl.style.display =\n",
              "          google.colab.kernel.accessAllowed ? 'block' : 'none';\n",
              "\n",
              "        async function convertToInteractive(key) {\n",
              "          const element = document.querySelector('#df-3135ce77-301d-4948-97cf-2b57e5be89ec');\n",
              "          const dataTable =\n",
              "            await google.colab.kernel.invokeFunction('convertToInteractive',\n",
              "                                                     [key], {});\n",
              "          if (!dataTable) return;\n",
              "\n",
              "          const docLinkHtml = 'Like what you see? Visit the ' +\n",
              "            '<a target=\"_blank\" href=https://colab.research.google.com/notebooks/data_table.ipynb>data table notebook</a>'\n",
              "            + ' to learn more about interactive tables.';\n",
              "          element.innerHTML = '';\n",
              "          dataTable['output_type'] = 'display_data';\n",
              "          await google.colab.output.renderOutput(dataTable, element);\n",
              "          const docLink = document.createElement('div');\n",
              "          docLink.innerHTML = docLinkHtml;\n",
              "          element.appendChild(docLink);\n",
              "        }\n",
              "      </script>\n",
              "    </div>\n",
              "  </div>\n",
              "  "
            ]
          },
          "metadata": {},
          "execution_count": 41
        }
      ]
    }
  ]
}